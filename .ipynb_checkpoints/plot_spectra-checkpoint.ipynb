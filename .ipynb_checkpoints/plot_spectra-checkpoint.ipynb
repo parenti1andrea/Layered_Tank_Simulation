{
 "cells": [
  {
   "cell_type": "code",
   "execution_count": 7,
   "id": "615ba53d-33bc-453e-bfe2-3eae5732f806",
   "metadata": {},
   "outputs": [],
   "source": [
    "import ROOT\n",
    "import numpy as np \n",
    "import matplotlib as mpl\n",
    "from matplotlib import pyplot as plt"
   ]
  },
  {
   "cell_type": "code",
   "execution_count": 8,
   "id": "5d052b5f-823d-42b2-8bbc-ad08cc4d2221",
   "metadata": {},
   "outputs": [],
   "source": [
    "df = ROOT.RDataFrame(\"randomParticles\", \"./allpart.root\")"
   ]
  },
  {
   "cell_type": "code",
   "execution_count": 9,
   "id": "bfc029cf-65d8-425b-8664-49f519cd2681",
   "metadata": {},
   "outputs": [],
   "source": [
    "secondary_type = df.AsNumpy(['fSecondaryType'])\n",
    "sec_id = secondary_type['fSecondaryType']"
   ]
  },
  {
   "cell_type": "code",
   "execution_count": 39,
   "id": "c3e67815-9270-49b3-9df1-dff6836c4c9d",
   "metadata": {},
   "outputs": [],
   "source": [
    "part_id = {1 : 'gamma', 2 : 'e+', 3 : 'e-',\n",
    "          5 : 'mu+', \n",
    "          6 : 'mu-',\n",
    "          7 : 'pi0', 8 : 'pi+', 9 : 'pi-',\n",
    "          10 : 'KL', 11 : 'K+', 12 : 'K-',\n",
    "          13 : 'n', 14 : 'p', 15 : 'antip'\n",
    "          }"
   ]
  },
  {
   "cell_type": "code",
   "execution_count": 40,
   "id": "764beb18-a8f9-439a-ad81-53ca0dd8464d",
   "metadata": {},
   "outputs": [],
   "source": [
    "part_id_lept = {1 : 'gamma', 2 : 'e+', 3 : 'e-',\n",
    "          5 : 'mu+', \n",
    "          6 : 'mu-',\n",
    "          }"
   ]
  },
  {
   "cell_type": "code",
   "execution_count": 41,
   "id": "bcb5436d-7dd5-44a5-b99d-6e0d01d7d398",
   "metadata": {},
   "outputs": [],
   "source": [
    "part_id_hadr = {\n",
    "          7 : 'pi0', 8 : 'pi+', 9 : 'pi-',\n",
    "          10 : 'KL', 11 : 'K+', 12 : 'K-',\n",
    "          13 : 'n', 14 : 'p', 15 : 'antip'\n",
    "          }"
   ]
  },
  {
   "cell_type": "code",
   "execution_count": 27,
   "id": "7ba17466-1a2a-4ffa-ac45-3f4e98d5aa66",
   "metadata": {},
   "outputs": [],
   "source": [
    "part_id_inv = {'gamma' : 1, 'e+' : 2, 'e-' : 3,\n",
    "          'mu+' : 5, \n",
    "          'mu-' : 6,\n",
    "          'pi0' : 7, 'pi+' : 8, 'pi-' : 9,\n",
    "          'KL' : 10, 'K+' : 11, 'K-' : 12,\n",
    "          'n' : 13, 'p' : 14, 'antip' : 15\n",
    "          }"
   ]
  },
  {
   "cell_type": "code",
   "execution_count": 52,
   "id": "67a10719-b753-4b9b-b4c6-fac30641fb1e",
   "metadata": {},
   "outputs": [
    {
     "data": {
      "text/plain": [
       "['fSecondaryType==1',\n",
       " 'fSecondaryType==2fSecondaryType==3',\n",
       " 'fSecondaryType==5fSecondaryType==6']"
      ]
     },
     "execution_count": 52,
     "metadata": {},
     "output_type": "execute_result"
    }
   ],
   "source": [
    "filters = []\n",
    "\n",
    "for pID in part_id_lept: \n",
    "    if(pID == 3 or pID == 6) : continue # positron case skipped, it's defined together with electron \n",
    "    str_filter = 'fSecondaryType=='+str(pID)\n",
    "    if(pID == 2 or pID == 5): str_filter += 'or fSecondaryType=='+str(pID+1)\n",
    "    filters.append(str_filter)\n",
    "\n",
    "filters"
   ]
  },
  {
   "cell_type": "code",
   "execution_count": 49,
   "id": "b5821674-6afd-4c0e-8b51-64cb16280d78",
   "metadata": {},
   "outputs": [
    {
     "name": "stdout",
     "output_type": "stream",
     "text": [
      "Filter condition : fSecondaryType==1\n",
      "Filter condition : fSecondaryType==2\n",
      "Filter condition : fSecondaryType==3\n",
      "Filter condition : fSecondaryType==5\n",
      "Filter condition : fSecondaryType==6\n"
     ]
    },
    {
     "data": {
      "text/plain": [
       "<matplotlib.legend.Legend at 0x3225fed50>"
      ]
     },
     "execution_count": 49,
     "metadata": {},
     "output_type": "execute_result"
    },
    {
     "data": {
      "image/png": "[encoded data removed]",
      "text/plain": [
       "<Figure size 640x480 with 1 Axes>"
      ]
     },
     "metadata": {},
     "output_type": "display_data"
    }
   ],
   "source": [
    "cycle = 0\n",
    "\n",
    "for pID in part_id_lept: \n",
    "    str_filter = 'fSecondaryType=='+str(pID)\n",
    "    print('Filter condition :',str_filter)\n",
    "    p_sec = df.Filter(str_filter).AsNumpy(['fPx','fPy','fPz'])\n",
    "    ptot = np.sqrt(p_sec['fPx']**2 + p_sec['fPy']**2 + p_sec['fPz']**2)\n",
    "    if(pID==2 or pID==3):plt.hist(np.log10(ptot), bins = np.arange(-4,4,0.01), label = part_id[pID])\n",
    "\n",
    "plt.yscale('log')\n",
    "plt.legend()"
   ]
  },
  {
   "cell_type": "code",
   "execution_count": null,
   "id": "713cfb19-af08-4801-b68d-b67f4fd1202e",
   "metadata": {},
   "outputs": [],
   "source": [
    "   p_sec = secondary_type = df.AsNumpy(['fPx','fPy','fPz'])\n",
    "\n",
    "    def myFilter(x):\n",
    "        return x > 10"
   ]
  }
 ],
 "metadata": {
  "kernelspec": {
   "display_name": "Python 3 (ipykernel)",
   "language": "python",
   "name": "python3"
  },
  "language_info": {
   "codemirror_mode": {
    "name": "ipython",
    "version": 3
   },
   "file_extension": ".py",
   "mimetype": "text/x-python",
   "name": "python",
   "nbconvert_exporter": "python",
   "pygments_lexer": "ipython3",
   "version": "3.13.2"
  }
 },
 "nbformat": 4,
 "nbformat_minor": 5
}
