{
 "cells": [
  {
   "cell_type": "code",
   "execution_count": null,
   "metadata": {
    "vscode": {
     "languageId": "plaintext"
    }
   },
   "outputs": [],
   "source": [
    "import ROOT\n",
    "import numpy as np \n",
    "import matplotlib as mpl\n",
    "from matplotlib import pyplot as plt"
   ]
  },
  {
   "cell_type": "code",
   "execution_count": null,
   "metadata": {
    "vscode": {
     "languageId": "plaintext"
    }
   },
   "outputs": [],
   "source": [
    "df = ROOT.RDataFrame(\"randomParticles\", \"/Users/workspace/Software/Layered_Tank_Simulation/CORSIKA_tree/allpart.root\")\n"
   ]
  },
  {
   "cell_type": "code",
   "execution_count": null,
   "metadata": {
    "vscode": {
     "languageId": "plaintext"
    }
   },
   "outputs": [],
   "source": [
    "coor = df.AsNumpy(['fX','fY'])\n",
    "x = coor['fX']\n",
    "y = coor['fY']"
   ]
  },
  {
   "cell_type": "code",
   "execution_count": null,
   "metadata": {
    "vscode": {
     "languageId": "plaintext"
    }
   },
   "outputs": [],
   "source": [
    "plt.subplots(1,2, figsize=(15,5),dpi=500)\n",
    "#plt.axis('square')\n",
    "\n",
    "plt.subplot(1,2,1)\n",
    "plt.xlim(-6e7,6e7)\n",
    "plt.ylim(-6e7,6e7)\n",
    "plt.xlabel('x',size=13)\n",
    "plt.ylabel('y',size=13)\n",
    "\n",
    "plt.scatter(x,y, s=1)\n",
    "\n",
    "plt.subplot(1,2,2)\n",
    "\n",
    "plt.xlim(-1e7,1e7)\n",
    "plt.ylim(-1e7,1e7)\n",
    "plt.xlabel('x',size=13)\n",
    "plt.ylabel('y',size=13)\n",
    "\n",
    "plt.scatter(x,y, s=1)\n",
    "\n",
    "plt.savefig('/Users/workspace/Software/Layered_Tank_Simulation/CherenkovSim/tests/plots/corsika_tree_x_y.png',format='png')"
   ]
  },
  {
   "cell_type": "code",
   "execution_count": null,
   "metadata": {
    "vscode": {
     "languageId": "plaintext"
    }
   },
   "outputs": [],
   "source": [
    "showerID_min = 0\n",
    "showerID_max = 100\n",
    "\n",
    "str_filter = 'fPrimShowerID>='+str(showerID_min)+' && fPrimShowerID <= '+str(showerID_max)\n",
    "print('Filter condition :',str_filter)\n",
    "coor_sec = df.Filter(str_filter).AsNumpy(['fX','fY'])\n",
    "x_shower = coor_sec['fX']\n",
    "y_shower = coor_sec['fY']"
   ]
  },
  {
   "cell_type": "code",
   "execution_count": null,
   "metadata": {
    "vscode": {
     "languageId": "plaintext"
    }
   },
   "outputs": [],
   "source": [
    "plt.subplots(1,2, figsize=(15,5))\n",
    "#plt.axis('square')\n",
    "\n",
    "plt.subplot(1,2,1)\n",
    "plt.xlim(-1e6,1e6)\n",
    "plt.ylim(-1e6,1e6)\n",
    "plt.xlabel('x',size=13)\n",
    "plt.ylabel('y',size=13)\n",
    "\n",
    "plt.scatter(x_shower,y_shower, s=1)\n",
    "\n",
    "plt.subplot(1,2,2)\n",
    "\n",
    "plt.xlim(-5e5,5e5)\n",
    "plt.ylim(-5e5,5e5)\n",
    "plt.xlabel('x',size=13)\n",
    "plt.ylabel('y',size=13)\n",
    "\n",
    "plt.scatter(x_shower,y_shower, s=1)\n",
    "\n",
    "plt.savefig('/Users/workspace/Software/Layered_Tank_Simulation/CherenkovSim/tests/plots/corsika_tree_x_y_100.pdf',format='pdf')"
   ]
  }
 ],
 "metadata": {
  "language_info": {
   "name": "python"
  }
 },
 "nbformat": 4,
 "nbformat_minor": 2
}
