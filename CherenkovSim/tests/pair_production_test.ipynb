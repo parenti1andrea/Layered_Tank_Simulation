{
 "cells": [
  {
   "cell_type": "code",
   "execution_count": 1,
   "metadata": {},
   "outputs": [],
   "source": [
    "import sys\n",
    "import os\n",
    "\n",
    "# Add the parent directory of \"tests\" to sys.path\n",
    "sys.path.append(os.path.abspath(\"/Users/workspace/Software/Layered_Tank_Simulation/CherenkovSim/\"))"
   ]
  },
  {
   "cell_type": "code",
   "execution_count": 2,
   "metadata": {},
   "outputs": [],
   "source": [
    "import numpy as np \n",
    "import matplotlib as mpl\n",
    "import matplotlib.pyplot as plt\n",
    "import astropy.units as u"
   ]
  },
  {
   "cell_type": "code",
   "execution_count": 3,
   "metadata": {},
   "outputs": [],
   "source": [
    "# Extract starting position randomly from a circle corresponding to the top of the tank\n",
    "N_event = 1000 # Choose number of particles \n",
    "\n",
    "# Gen. surface radius \n",
    "R_gen = 180 * u.cm \n",
    " \n",
    "def rnd_tank_start(R_gen, N_event): \n",
    "    r = R_gen * np.sqrt(np.random.uniform(0,1,size=N_event))\n",
    "    alpha = np.random.uniform(0,2*np.pi, size=N_event) \n",
    "    z_value = 140 \n",
    "    x0 = r * np.cos(alpha)   \n",
    "    y0 = r * np.sin(alpha)  \n",
    "    z0 = np.full(N_event,z_value) * u.cm\n",
    "    return x0, y0, z0   \n",
    "\n",
    "\n",
    "def rnd_direction(N_event):\n",
    "    phi = np.random.uniform(0,2*np.pi, size=N_event)\n",
    "\n",
    "    theta_0 = 0 * u.deg \n",
    "    theta_1 = 30 * u.deg \n",
    "    cos_theta_squared = np.random.uniform(np.cos(theta_1.to(u.rad))**2,np.cos(theta_0.to(u.rad))**2, size=N_event)\n",
    "    cos_theta = np.sqrt(cos_theta_squared)\n",
    "    theta = np.arccos(cos_theta) \n",
    "    return theta * u.rad, phi * u.rad"
   ]
  },
  {
   "cell_type": "code",
   "execution_count": 4,
   "metadata": {},
   "outputs": [],
   "source": [
    "# Track muons inside the tank, considering energy loss and Cherenkov produciton \n",
    "\n",
    "muon_theta, muon_phi = rnd_direction(N_event)\n",
    "x0,y0,z0 = rnd_tank_start(R_gen, N_event)  \n",
    "\n",
    "initial_position = np.array([x0[0].value,y0[0].value,z0[0].value]) * u.cm\n",
    "theta = muon_theta[0]\n",
    "phi = muon_phi[0]"
   ]
  },
  {
   "cell_type": "code",
   "execution_count": 5,
   "metadata": {},
   "outputs": [],
   "source": [
    "def _compute_direction(zenith, azimuth):\n",
    "    \"\"\"\n",
    "    Converts zenith (θ) and azimuth (φ) angles into a unit direction vector.\n",
    "\n",
    "    :param zenith: Angle from vertical (0° = downward, 90° = horizontal).\n",
    "    :param azimuth: Angle from x-axis (0° = x, 90° = y, 180° = -x, 270° = -y).\n",
    "    :return: A NumPy array representing the direction vector.\n",
    "    \"\"\"\n",
    "    theta = zenith.to(u.rad).value  # Convert degrees to radians\n",
    "    phi = azimuth.to(u.rad).value  # Convert degrees to radians\n",
    "    # Convert spherical coordinates to Cartesian unit vector\n",
    "    direction = np.array([\n",
    "        np.sin(theta) * np.cos(phi),  # x-component\n",
    "        np.sin(theta) * np.sin(phi),  # y-component\n",
    "        np.cos(theta)                # z-component\n",
    "    ])\n",
    "    return direction / np.linalg.norm(direction)  # Ensure it's a unit vector]"
   ]
  },
  {
   "cell_type": "code",
   "execution_count": 6,
   "metadata": {},
   "outputs": [
    {
     "name": "stdout",
     "output_type": "stream",
     "text": [
      "[-0.2658768  -0.01977649  0.96380414]\n"
     ]
    }
   ],
   "source": [
    "dir_photon =np.asarray(_compute_direction(theta,phi))\n",
    "print(dir_photon)"
   ]
  },
  {
   "cell_type": "code",
   "execution_count": 7,
   "metadata": {},
   "outputs": [],
   "source": [
    "nx = np.asarray([1,0,0])"
   ]
  },
  {
   "cell_type": "code",
   "execution_count": 8,
   "metadata": {},
   "outputs": [
    {
     "name": "stdout",
     "output_type": "stream",
     "text": [
      "[ 0.         -0.99978955 -0.02051488]\n"
     ]
    }
   ],
   "source": [
    "# Compute versor perpendicular to photon direction \n",
    "e1 = np.cross(nx, dir_photon) / np.linalg.norm(np.cross(nx, dir_photon) ) \n",
    "print(e1)\n"
   ]
  },
  {
   "cell_type": "code",
   "execution_count": 9,
   "metadata": {},
   "outputs": [
    {
     "name": "stdout",
     "output_type": "stream",
     "text": [
      "[ 0.96400702 -0.00545443  0.26582085]\n"
     ]
    }
   ],
   "source": [
    "e2 = np.cross(dir_photon, e1)\n",
    "print(e2)"
   ]
  },
  {
   "cell_type": "code",
   "execution_count": 10,
   "metadata": {},
   "outputs": [
    {
     "name": "stdout",
     "output_type": "stream",
     "text": [
      "0.0\n",
      "0.0\n",
      "8.673617379884035e-19\n"
     ]
    }
   ],
   "source": [
    "# Cross check that they are perpendicular \n",
    "print(np.dot(e1,dir_photon))\n",
    "print(np.dot(e2,dir_photon))\n",
    "print(np.dot(e1,e2))\n"
   ]
  },
  {
   "cell_type": "code",
   "execution_count": 11,
   "metadata": {},
   "outputs": [
    {
     "name": "stdout",
     "output_type": "stream",
     "text": [
      "Opening angle is  29.278143331185067 deg\n"
     ]
    }
   ],
   "source": [
    "# Compute opening angle of electron positron pair with respect to the photon \n",
    "theta_pp = 0.511 / 1 * u.rad\n",
    "print('Opening angle is ',theta_pp.to(u.deg))\n",
    "\n",
    "cos_pp = np.cos(theta_pp)\n",
    "sin_pp = np.sin(theta_pp)"
   ]
  },
  {
   "cell_type": "code",
   "execution_count": 12,
   "metadata": {},
   "outputs": [],
   "source": [
    "# Compute azimuthal angle on the plane perpendicular to the direction of the photon \n",
    "rng = np.random.default_rng()  \n",
    "phi_pp = rng.uniform(0, 1, size=1) * 2 * np.pi"
   ]
  },
  {
   "cell_type": "code",
   "execution_count": 13,
   "metadata": {},
   "outputs": [],
   "source": [
    "n_e_minus = e1 * np.cos(phi_pp) * sin_pp + e2 * np.sin(phi_pp) * sin_pp + dir_photon * cos_pp\n",
    "n_e_plus = e1 * np.cos(phi_pp + np.pi) * sin_pp + e2 * np.sin(phi_pp + np.pi) * sin_pp + dir_photon * cos_pp"
   ]
  },
  {
   "cell_type": "code",
   "execution_count": 14,
   "metadata": {},
   "outputs": [
    {
     "name": "stdout",
     "output_type": "stream",
     "text": [
      "1.0\n",
      "0.9999999999999999\n"
     ]
    }
   ],
   "source": [
    "# Check that they are normalized\n",
    "print(np.linalg.norm(n_e_minus))\n",
    "print(np.linalg.norm(n_e_plus))"
   ]
  },
  {
   "cell_type": "code",
   "execution_count": 15,
   "metadata": {},
   "outputs": [
    {
     "name": "stdout",
     "output_type": "stream",
     "text": [
      "[-0.2658768  -0.01977649  0.96380414]\n",
      "[-0.59566862 -0.3262311   0.73399739]\n",
      "[0.1318434  0.29173078 0.94737029]\n"
     ]
    }
   ],
   "source": [
    "print(dir_photon)\n",
    "print(n_e_minus)\n",
    "print(n_e_plus)\n",
    "\n"
   ]
  },
  {
   "cell_type": "code",
   "execution_count": 16,
   "metadata": {},
   "outputs": [
    {
     "data": {
      "text/plain": [
       "array([[-0.2658768 , -0.01977649],\n",
       "       [-0.59566862, -0.3262311 ],\n",
       "       [ 0.1318434 ,  0.29173078]])"
      ]
     },
     "execution_count": 16,
     "metadata": {},
     "output_type": "execute_result"
    }
   ],
   "source": [
    "vectors = np.array([dir_photon, n_e_minus.value, n_e_plus.value])\n",
    "vectors[:,0:2]"
   ]
  },
  {
   "cell_type": "code",
   "execution_count": 17,
   "metadata": {},
   "outputs": [
    {
     "data": {
      "text/plain": [
       "Text(0, 0.5, 'z')"
      ]
     },
     "execution_count": 17,
     "metadata": {},
     "output_type": "execute_result"
    },
    {
     "data": {
      "image/png": "[encoded data removed]",
      "text/plain": [
       "<Figure size 1800x500 with 3 Axes>"
      ]
     },
     "metadata": {},
     "output_type": "display_data"
    }
   ],
   "source": [
    "plt.subplots(1,3,figsize=(18\n",
    "                        ,5))\n",
    "plt.subplot(1,3,1)\n",
    "plt.quiver(0,0,*dir_photon[0:2], color='black',scale=2)\n",
    "plt.quiver(0,0,*n_e_minus[0:2].value,  color='green', scale=2)\n",
    "plt.quiver(0,0,*n_e_plus[0:2].value, color='blue', scale=2)\n",
    "plt.xlabel('x')\n",
    "plt.ylabel('y')\n",
    "\n",
    "plt.subplot(1,3,2)\n",
    "plt.quiver(0,0,*dir_photon[1:], color='black',scale=2)\n",
    "plt.quiver(0,0,*n_e_minus[1:].value,color='green', scale=2)\n",
    "plt.quiver(0,0,*n_e_plus[1:].value, color='blue',scale=2)\n",
    "plt.xlabel('y')\n",
    "plt.ylabel('z')\n",
    "\n",
    "plt.subplot(1,3,3)\n",
    "plt.quiver(0,0,*[dir_photon[0], dir_photon[-1]], color='black',scale=2)\n",
    "plt.quiver(0,0,*[n_e_minus[0].value, n_e_minus[-1].value],color='green', scale=2)\n",
    "plt.quiver(0,0,*[n_e_plus[0].value, n_e_plus[-1].value], color='blue', scale=2)\n",
    "plt.xlabel('x')\n",
    "plt.ylabel('z')\n"
   ]
  },
  {
   "cell_type": "code",
   "execution_count": 18,
   "metadata": {},
   "outputs": [
    {
     "name": "stdout",
     "output_type": "stream",
     "text": [
      "0.7466070945089628 -2.6405384245163597\n",
      "0.32587711552931015 1.1463342830458985\n"
     ]
    }
   ],
   "source": [
    "theta_electron = np.arccos(n_e_minus[2]).value\n",
    "phi_electron = np.arctan2\n",
    "(n_e_minus[1],n_e_minus[0]).value\n",
    "\n",
    "theta_positron = np.arccos(n_e_plus[2]).value\n",
    "phi_positron = np.arctan2(n_e_plus[1],n_e_plus[0]).value\n",
    "\n",
    "print(theta_electron, phi_electron)\n",
    "print(theta_positron, phi_positron)\n"
   ]
  },
  {
   "cell_type": "code",
   "execution_count": 19,
   "metadata": {},
   "outputs": [],
   "source": [
    "n_e_minus_check = [np.sin(theta_electron) * np.cos(phi_electron),\n",
    "                   np.sin(theta_electron) * np.sin(phi_electron),\n",
    "                   np.cos(theta_electron)\n",
    "]\n",
    "\n",
    "n_e_plus_check = [np.sin(theta_positron) * np.cos(phi_positron),\n",
    "                   np.sin(theta_positron) * np.sin(phi_positron),\n",
    "                   np.cos(theta_positron)\n",
    "]"
   ]
  },
  {
   "cell_type": "code",
   "execution_count": 20,
   "metadata": {},
   "outputs": [
    {
     "data": {
      "text/plain": [
       "Text(0, 0.5, 'z')"
      ]
     },
     "execution_count": 20,
     "metadata": {},
     "output_type": "execute_result"
    },
    {
     "data": {
      "image/png": "[encoded data removed]",
      "text/plain": [
       "<Figure size 1800x500 with 3 Axes>"
      ]
     },
     "metadata": {},
     "output_type": "display_data"
    }
   ],
   "source": [
    "plt.subplots(1,3,figsize=(18\n",
    "                        ,5))\n",
    "plt.subplot(1,3,1)\n",
    "plt.quiver(0,0,*dir_photon[0:2], color='black',scale=2)\n",
    "plt.quiver(0,0,*n_e_minus_check[0:2], color='green',scale=2)\n",
    "plt.quiver(0,0,*n_e_plus_check[0:2], color='blue', scale=2)\n",
    "plt.xlabel('x')\n",
    "plt.ylabel('y')\n",
    "\n",
    "plt.subplot(1,3,2)\n",
    "plt.quiver(0,0,*dir_photon[1:], color='black',scale=2)\n",
    "plt.quiver(0,0,*n_e_minus_check[1:],color='green', scale=2)\n",
    "plt.quiver(0,0,*n_e_plus_check[1:], color='blue',scale=2)\n",
    "plt.xlabel('y')\n",
    "plt.ylabel('z')\n",
    "\n",
    "plt.subplot(1,3,3)\n",
    "plt.quiver(0,0,*[dir_photon[0], dir_photon[-1]], color='black',scale=2)\n",
    "plt.quiver(0,0,*[n_e_minus_check[0], n_e_minus_check[-1]],color='green', scale=2)\n",
    "plt.quiver(0,0,*[n_e_plus_check[0], n_e_plus_check[-1]],color='blue', scale=2)\n",
    "plt.xlabel('x')\n",
    "plt.ylabel('z')"
   ]
  }
 ],
 "metadata": {
  "kernelspec": {
   "display_name": "Software",
   "language": "python",
   "name": "python3"
  },
  "language_info": {
   "codemirror_mode": {
    "name": "ipython",
    "version": 3
   },
   "file_extension": ".py",
   "mimetype": "text/x-python",
   "name": "python",
   "nbconvert_exporter": "python",
   "pygments_lexer": "ipython3",
   "version": "3.13.2"
  }
 },
 "nbformat": 4,
 "nbformat_minor": 2
}
