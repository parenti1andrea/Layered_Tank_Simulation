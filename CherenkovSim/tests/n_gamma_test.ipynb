{
 "cells": [
  {
   "cell_type": "code",
   "execution_count": 1,
   "metadata": {},
   "outputs": [],
   "source": [
    "import sys\n",
    "import os\n",
    "\n",
    "# Add the parent directory of \"tests\" to sys.path\n",
    "sys.path.append(os.path.abspath(\"/Users/workspace/Software/Layered_Tank_Simulation/CherenkovSim/\"))"
   ]
  },
  {
   "cell_type": "code",
   "execution_count": 2,
   "metadata": {},
   "outputs": [],
   "source": [
    "from cherenkov_sim.particle import Particle\n",
    "from cherenkov_sim.muon import Muon\n",
    "from cherenkov_sim.gamma import Gamma\n",
    "from cherenkov_sim.material import Material\n",
    "from cherenkov_sim.tracker import ParticleTracker, GammaTracker_OnlyPP\n",
    "from cherenkov_sim.constants import ALPHA, R_TANK, H_TANK, TOP_TANK, ELECTRON_MASS\n",
    "\n",
    "import numpy as np\n",
    "from astropy import units as u\n",
    "import matplotlib as mpl\n",
    "import matplotlib.pyplot as plt"
   ]
  },
  {
   "cell_type": "code",
   "execution_count": 3,
   "metadata": {},
   "outputs": [],
   "source": [
    "ice = Material(\n",
    "    name = 'Ice',\n",
    "    Z_A = 0.55509 * u.mol / u.g,\n",
    "    rho = 0.9180 * u.g / u.cm**3,\n",
    "    I = 79.7 * u.eV, \n",
    "    n = 1.309,\n",
    "    X0 = 39.31 * u.cm, \n",
    "    delta_file = '/Users/workspace/Software/PHYS-F-420/lesson2/delta_elec.txt',\n",
    "    att_file = '/Users/workspace/Software/Layered_Tank_Simulation/CherenkovSim/cherenkov_sim/water_gamma_cross_section.txt'\n",
    ")\n",
    "\n",
    "water = Material(\n",
    "    name = 'water',\n",
    "    Z_A = 0.55509 * u.mol / u.g,\n",
    "    rho = 1 * u.g / u.cm**3,\n",
    "    I = 79.7 * u.eV,\n",
    "    n = 1.333,\n",
    "    X0 = 36.08 * u.cm, \n",
    "    delta_file = '/Users/workspace/Software/PHYS-F-420/lesson2/delta_elec.txt',\n",
    "    att_file = '/Users/workspace/Software/Layered_Tank_Simulation/CherenkovSim/cherenkov_sim/water_gamma_cross_section.txt'\n",
    ")"
   ]
  },
  {
   "cell_type": "code",
   "execution_count": 4,
   "metadata": {},
   "outputs": [],
   "source": [
    "# Define primary energy \n",
    "e = 0.2 * u.GeV"
   ]
  },
  {
   "cell_type": "code",
   "execution_count": 5,
   "metadata": {},
   "outputs": [],
   "source": [
    "# Extract starting position randomly from a circle corresponding to the top of the tank\n",
    "N_event = int(1) # Choose number of particles \n",
    "\n",
    "# Gen. surface radius \n",
    "R_gen = 180 * u.cm \n",
    " \n",
    "def rnd_tank_start(R_gen, N_event): \n",
    "    r = R_gen * np.sqrt(np.random.uniform(0,1,size=N_event))\n",
    "    alpha = np.random.uniform(0,2*np.pi, size=N_event) \n",
    "    z_value = 140 \n",
    "    x0 = r * np.cos(alpha)   \n",
    "    y0 = r * np.sin(alpha)  \n",
    "    z0 = np.full(N_event,z_value) * u.cm\n",
    "    return x0, y0, z0   \n",
    "\n",
    "\n",
    "def rnd_direction(N_event):\n",
    "    phi = np.random.uniform(0,2*np.pi, size=N_event)\n",
    "\n",
    "    theta_0 = 0 * u.deg \n",
    "    theta_1 = 30 * u.deg \n",
    "    cos_theta_squared = np.random.uniform(np.cos(theta_1.to(u.rad))**2,np.cos(theta_0.to(u.rad))**2, size=N_event)\n",
    "    cos_theta = np.sqrt(cos_theta_squared)\n",
    "    theta = np.arccos(cos_theta) \n",
    "    return theta * u.rad, phi * u.rad"
   ]
  },
  {
   "cell_type": "code",
   "execution_count": 6,
   "metadata": {},
   "outputs": [],
   "source": [
    "# Track muons inside the tank, considering energy loss and Cherenkov produciton \n",
    "\n",
    "muon_theta, muon_phi = rnd_direction(N_event)\n",
    "x0,y0,z0 = rnd_tank_start(R_gen, N_event)  \n",
    "\n",
    "initial_position = np.array([x0[0].value,y0[0].value,z0[0].value]) * u.cm\n",
    "theta = muon_theta[0]"
   ]
  },
  {
   "cell_type": "code",
   "execution_count": 7,
   "metadata": {},
   "outputs": [],
   "source": [
    "# Create list to store photon position \n",
    "\n",
    "all_photons = []\n",
    "all_photons_z = []\n",
    "all_photons_r = []"
   ]
  },
  {
   "cell_type": "code",
   "execution_count": null,
   "metadata": {},
   "outputs": [
    {
     "name": "stdout",
     "output_type": "stream",
     "text": [
      "Simulating gamma track # 0\n"
     ]
    },
    {
     "ename": "AttributeError",
     "evalue": "'GammaTracker_OnlyPP' object has no attribute 'electron_trackers_queue'",
     "output_type": "error",
     "traceback": [
      "\u001b[0;31m---------------------------------------------------------------------------\u001b[0m",
      "\u001b[0;31mAttributeError\u001b[0m                            Traceback (most recent call last)",
      "Cell \u001b[0;32mIn[8], line 20\u001b[0m\n\u001b[1;32m     16\u001b[0m \u001b[38;5;28mprint\u001b[39m(\u001b[38;5;124m'\u001b[39m\u001b[38;5;124mSimulating gamma track #\u001b[39m\u001b[38;5;124m'\u001b[39m,i_evt)\n\u001b[1;32m     18\u001b[0m out \u001b[38;5;241m=\u001b[39m gamma_tracker\u001b[38;5;241m.\u001b[39mpropagate()\n\u001b[0;32m---> 20\u001b[0m \u001b[38;5;28mprint\u001b[39m(\u001b[43mgamma_tracker\u001b[49m\u001b[38;5;241;43m.\u001b[39;49m\u001b[43melectron_trackers_queue\u001b[49m)\n\u001b[1;32m     22\u001b[0m \u001b[38;5;66;03m#if(gamma_tracker.is_pair_production):\u001b[39;00m\n\u001b[1;32m     23\u001b[0m \u001b[38;5;66;03m#    electron_tracker = out[0] \u001b[39;00m\n\u001b[1;32m     24\u001b[0m \u001b[38;5;66;03m#    positron_tracker = out[1]   \u001b[39;00m\n\u001b[0;32m   (...)\u001b[0m\n\u001b[1;32m     34\u001b[0m \u001b[38;5;66;03m#    all_photons_z.extend(positron_tracker.cherenkov_photons_z)\u001b[39;00m\n\u001b[1;32m     35\u001b[0m \u001b[38;5;66;03m#    all_photons_r.extend(positron_tracker.cherenkov_photons_r)\u001b[39;00m\n",
      "\u001b[0;31mAttributeError\u001b[0m: 'GammaTracker_OnlyPP' object has no attribute 'electron_trackers_queue'"
     ]
    }
   ],
   "source": [
    "for i_evt in range(0, N_event):\n",
    "\n",
    "    # Define particle \n",
    "    gamma = Gamma(energy = e)\n",
    "\n",
    "    # Create the Tracker\n",
    "\n",
    "    initial_position = np.array([x0[i_evt].value,y0[i_evt].value,z0[i_evt].value]) * u.cm\n",
    "\n",
    "    gamma_tracker = GammaTracker_OnlyPP(gamma, water, step_size= - 1.0 * u.cm,\n",
    "                      position=initial_position, \n",
    "                      zenith=muon_theta[i_evt], \n",
    "                      azimuth=muon_phi[i_evt],\n",
    "                      is_verbose = False)\n",
    "    \n",
    "    print('Simulating gamma track #',i_evt)\n",
    "\n",
    "    out = gamma_tracker.propagate()\n",
    "\n",
    "    if(gamma_tracker.is_pair_production):\n",
    "        electron_tracker = out[0] \n",
    "        positron_tracker = out[1]   \n",
    "\n",
    "        electron_tracker.is_verbose = False\n",
    "        positron_tracker.is_verbose = False\n",
    "\n",
    "        electron_tracker.propagate(lambda1 = 300 * u.nm, lambda2 = 600 * u.nm)\n",
    "        positron_tracker.propagate(lambda1 = 300 * u.nm, lambda2 = 600 * u.nm)\n",
    "\n",
    "        all_photons_z.extend(electron_tracker.cherenkov_photons_z)\n",
    "        all_photons_r.extend(electron_tracker.cherenkov_photons_r)\n",
    "        all_photons_z.extend(positron_tracker.cherenkov_photons_z)\n",
    "        all_photons_r.extend(positron_tracker.cherenkov_photons_r)\n"
   ]
  },
  {
   "cell_type": "code",
   "execution_count": null,
   "metadata": {},
   "outputs": [
    {
     "data": {
      "text/plain": [
       "17000510"
      ]
     },
     "execution_count": 9,
     "metadata": {},
     "output_type": "execute_result"
    }
   ],
   "source": [
    "len(all_photons_z)"
   ]
  },
  {
   "cell_type": "code",
   "execution_count": null,
   "metadata": {},
   "outputs": [],
   "source": [
    "# Define range and bins of photon density histogram \n",
    "\n",
    "bin_width = 10\n",
    "r_bins = np.arange(0,R_TANK.value+bin_width,bin_width)\n",
    "z_bins = np.arange(0,H_TANK.value+bin_width,bin_width)\n",
    "\n",
    "# Compute volume corresponding to each bin \n",
    "r_min, r_max = r_bins[:-1], r_bins[1:]\n",
    "z_min, z_max = z_bins[:-1], z_bins[1:]\n",
    "\n",
    "vol = np.zeros((len(r_min),len(z_min))) \n",
    "r_centers = (r_min+r_max) / 2.\n",
    "z_centers = (z_min + z_max) / 2.\n",
    "\n",
    "for i in range(len(r_min)): \n",
    "    for j in range(len(z_min)): \n",
    "        vol[i][j] = np.pi * (r_max[i]**2-r_min[i]**2)*(z_max[j]-z_min[j])\n",
    "        \n",
    "r_centers, z_centers = np.meshgrid(r_centers,z_centers)  "
   ]
  },
  {
   "cell_type": "code",
   "execution_count": null,
   "metadata": {},
   "outputs": [
    {
     "data": {
      "image/png": "[encoded data removed]",
      "text/plain": [
       "<Figure size 640x480 with 2 Axes>"
      ]
     },
     "metadata": {},
     "output_type": "display_data"
    }
   ],
   "source": [
    "hist2d = plt.hist2d(all_photons_r, all_photons_z, bins=[r_bins,z_bins], norm=mpl.colors.LogNorm(), cmap = plt.cm.coolwarm )\n",
    "#hist2d = plt.hist2d(r_photon, z_photon, bins=[r_bins,z_bins], norm=mpl.colors.LogNorm(vmin=np.min(hist2d[0])), cmap = plt.cm.coolwarm)\n",
    "#hist2d = plt.hist2d(r_photon, z_photon, bins=[r_bins,z_bins], cmap = plt.cm.coolwarm)\n",
    "\n",
    "plt.xlabel('R tank / m',size=12)\n",
    "plt.ylabel('H tank / m',size=12)\n",
    "cbar = plt.colorbar()\n",
    "cbar.set_label('# Cherenkov photons', rotation=270, labelpad=10)"
   ]
  },
  {
   "cell_type": "code",
   "execution_count": null,
   "metadata": {},
   "outputs": [
    {
     "name": "stdout",
     "output_type": "stream",
     "text": [
      "(12, 15)\n",
      "(12, 15)\n"
     ]
    },
    {
     "data": {
      "text/plain": [
       "Text(0, 0.5, 'H tank / m')"
      ]
     },
     "execution_count": 12,
     "metadata": {},
     "output_type": "execute_result"
    },
    {
     "data": {
      "image/png": "[encoded data removed]",
      "text/plain": [
       "<Figure size 640x480 with 1 Axes>"
      ]
     },
     "metadata": {},
     "output_type": "display_data"
    }
   ],
   "source": [
    "plt.figure(dpi=100)\n",
    "bin_count = hist2d[0]\n",
    "ph_density = bin_count / vol \n",
    "\n",
    "print(r_centers.shape)\n",
    "print(z_centers.shape)\n",
    "\n",
    "#plt.scatter(r_centers, z_centers, c = ph_density.T, marker='s')\n",
    "#plt.colorbar()\n",
    "\n",
    "plt.scatter(r_centers, z_centers, s=ph_density.T*7, marker='s', c='red')\n",
    "plt.xlabel('R tank / m',size=12)\n",
    "plt.ylabel('H tank / m',size=12)"
   ]
  },
  {
   "cell_type": "code",
   "execution_count": null,
   "metadata": {},
   "outputs": [
    {
     "data": {
      "text/plain": [
       "(array([ 119971.,  454288., 1193559., 1434992., 1646751., 1701617.,\n",
       "        2163209., 2249037., 2805047., 3232039.]),\n",
       " array([  0.20617313,  15.23029156,  30.25441   ,  45.27852843,\n",
       "         60.30264686,  75.3267653 ,  90.35088373, 105.37500217,\n",
       "        120.3991206 , 135.42323904, 150.44735747]),\n",
       " <BarContainer object of 10 artists>)"
      ]
     },
     "execution_count": 13,
     "metadata": {},
     "output_type": "execute_result"
    },
    {
     "data": {
      "image/png": "[encoded data removed]",
      "text/plain": [
       "<Figure size 640x480 with 1 Axes>"
      ]
     },
     "metadata": {},
     "output_type": "display_data"
    }
   ],
   "source": [
    "plt.hist(all_photons_r)"
   ]
  },
  {
   "cell_type": "code",
   "execution_count": null,
   "metadata": {},
   "outputs": [],
   "source": [
    "mask = np.logical_and(all_photons_z > TOP_TANK.value, all_photons_z < H_TANK.value )"
   ]
  },
  {
   "cell_type": "code",
   "execution_count": null,
   "metadata": {},
   "outputs": [
    {
     "data": {
      "text/plain": [
       "array([ True,  True,  True, ...,  True,  True,  True])"
      ]
     },
     "execution_count": 15,
     "metadata": {},
     "output_type": "execute_result"
    }
   ],
   "source": [
    "mask"
   ]
  },
  {
   "cell_type": "code",
   "execution_count": null,
   "metadata": {},
   "outputs": [
    {
     "data": {
      "text/plain": [
       "5436692"
      ]
     },
     "execution_count": 16,
     "metadata": {},
     "output_type": "execute_result"
    }
   ],
   "source": [
    "len(np.asarray(all_photons_z)[mask])"
   ]
  },
  {
   "cell_type": "code",
   "execution_count": null,
   "metadata": {},
   "outputs": [],
   "source": []
  }
 ],
 "metadata": {
  "kernelspec": {
   "display_name": "tank_env",
   "language": "python",
   "name": "python3"
  },
  "language_info": {
   "codemirror_mode": {
    "name": "ipython",
    "version": 3
   },
   "file_extension": ".py",
   "mimetype": "text/x-python",
   "name": "python",
   "nbconvert_exporter": "python",
   "pygments_lexer": "ipython3",
   "version": "3.12.9"
  }
 },
 "nbformat": 4,
 "nbformat_minor": 2
}
