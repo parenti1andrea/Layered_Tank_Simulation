{
 "cells": [
  {
   "cell_type": "code",
   "execution_count": 1,
   "metadata": {},
   "outputs": [],
   "source": [
    "import sys\n",
    "import os\n",
    "\n",
    "# Add the project directory of \"tests\" to sys.path\n",
    "sys.path.append(os.path.abspath(\"/Users/workspace/Software/Layered_Tank_Simulation/CherenkovSim/\"))"
   ]
  },
  {
   "cell_type": "code",
   "execution_count": 2,
   "metadata": {},
   "outputs": [],
   "source": [
    "import ROOT\n",
    "import numpy as np \n",
    "import matplotlib as mpl\n",
    "from matplotlib import pyplot as plt\n",
    "import astropy.units as u\n",
    "import h5py\n",
    "from scipy.constants import c \n",
    "from cherenkov_sim.material import Material\n",
    "from cherenkov_sim.constants import TOP_TANK,H_TANK"
   ]
  },
  {
   "cell_type": "code",
   "execution_count": 3,
   "metadata": {},
   "outputs": [],
   "source": [
    "water = Material(\n",
    "    name = 'water',\n",
    "    Z_A = 0.55509 * u.mol / u.g,\n",
    "    rho = 1 * u.g / u.cm**3,\n",
    "    I = 79.7 * u.eV,\n",
    "    n = 1.333,\n",
    "    X0 = 36.08 * u.cm, \n",
    "    delta_file = '/Users/workspace/Software/PHYS-F-420/lesson2/delta_elec.txt',\n",
    "    att_file = '/Users/workspace/Software/Layered_Tank_Simulation/CherenkovSim/cherenkov_sim/water_gamma_cross_section.txt'\n",
    ")"
   ]
  },
  {
   "cell_type": "code",
   "execution_count": 4,
   "metadata": {},
   "outputs": [],
   "source": [
    "def get_charge_values(photon_coor_x, photon_coor_y, photon_coor_z, particle_number, unique_particle_number, particle_peak_list, particle_charge_list, max_iters = 100, isverbose=False):\n",
    "        \n",
    "        counter = 1\n",
    "\n",
    "        pmt_coor = [0,0,120] # cm \n",
    "        tau = 25 * 1e-9 #ns \n",
    "\n",
    "        for evt_num in unique_particle_number:\n",
    "\n",
    "                if(isverbose):\n",
    "                        print('Processing particle ',evt_num)\n",
    "\n",
    "                counter += 1\n",
    "        \n",
    "                mask_number = evt_num\n",
    "                number_mask = (particle_number == evt_num)  \n",
    "\n",
    "                if(isverbose):\n",
    "                    print(len(number_mask))\n",
    "\n",
    "                # Compute distance between photons produced from 0 to 80 cm on z axis to the PMT \n",
    "                top_tank_mask_1 = photon_coor_z[number_mask] > 80\n",
    "                top_tank_mask_2 = photon_coor_z[number_mask] < 120\n",
    "                top_tank_mask = np.logical_and(top_tank_mask_1, top_tank_mask_2)\n",
    "                photon_x_event = photon_coor_x[number_mask][top_tank_mask]\n",
    "                photon_y_event = photon_coor_y[number_mask][top_tank_mask]\n",
    "                photon_z_event = photon_coor_z[number_mask][top_tank_mask]\n",
    "        \n",
    "                dist_photons_pmt = np.sqrt( photon_x_event**2 + photon_y_event**2 + (photon_z_event - pmt_coor[2])**2 )\n",
    "                time_direct_photons_pmt = dist_photons_pmt / (water.n * c.to(u.cm/u.s).value)\n",
    "        \n",
    "                exp_time = np.random.exponential(tau, size=len(time_direct_photons_pmt))\n",
    "                time_photons_pmt = 2*time_direct_photons_pmt + exp_time\n",
    "        \n",
    "                counts, bin_edges = np.histogram(time_photons_pmt*1e9,bins=np.arange(0,450,25))\n",
    "        \n",
    "                max_counts = np.max(counts)\n",
    "                tot_counts = np.sum(counts)\n",
    "        \n",
    "                particle_peak_list.append(max_counts)\n",
    "                particle_charge_list.append(len(dist_photons_pmt))\n",
    "                \n",
    "                if(isverbose):\n",
    "                        print('Processing particle ',evt_num)\n",
    "                        print(len(number_mask))\n",
    "\n",
    "        \n",
    "                if(counter > max_iters):break"
   ]
  },
  {
   "cell_type": "code",
   "execution_count": 5,
   "metadata": {},
   "outputs": [
    {
     "name": "stdout",
     "output_type": "stream",
     "text": [
      "<KeysViewHDF5 ['e_number', 'gamma_number', 'mu_number', 'photons_e_x', 'photons_e_y', 'photons_e_z', 'photons_gamma_x', 'photons_gamma_y', 'photons_gamma_z', 'photons_mu_x', 'photons_mu_y', 'photons_mu_z']>\n"
     ]
    }
   ],
   "source": [
    "# Open h5 file \n",
    "N_EVENTS = '10000'\n",
    "hfile = h5py.File('/Users/workspace/Software/Layered_Tank_Simulation/CherenkovSim/tests/output/Cherenkov_photons'+N_EVENTS+'.h5','r')\n",
    "print(hfile.keys())"
   ]
  },
  {
   "cell_type": "code",
   "execution_count": 6,
   "metadata": {},
   "outputs": [],
   "source": [
    "mu_number = hfile['mu_number']\n",
    "photons_mu_x = hfile['photons_mu_x']\n",
    "photons_mu_y = hfile['photons_mu_y']\n",
    "photons_mu_z = hfile['photons_mu_z']"
   ]
  },
  {
   "cell_type": "code",
   "execution_count": 7,
   "metadata": {},
   "outputs": [],
   "source": [
    "e_number = hfile['e_number']\n",
    "photons_e_x = hfile['photons_e_x']\n",
    "photons_e_y = hfile['photons_e_y']\n",
    "photons_e_z = hfile['photons_e_z']"
   ]
  },
  {
   "cell_type": "code",
   "execution_count": 8,
   "metadata": {},
   "outputs": [],
   "source": [
    "gamma_number = hfile['gamma_number']\n",
    "photons_gamma_x = hfile['photons_gamma_x']\n",
    "photons_gamma_y = hfile['photons_gamma_y']\n",
    "photons_gamma_z = hfile['photons_gamma_z']"
   ]
  },
  {
   "cell_type": "code",
   "execution_count": 9,
   "metadata": {},
   "outputs": [
    {
     "name": "stdout",
     "output_type": "stream",
     "text": [
      "Number of muons:  1447\n",
      "Number of electrons:  583\n",
      "Number of gamma:  3593\n",
      "Total sum  5623\n"
     ]
    }
   ],
   "source": [
    "mu_evt_number = np.unique( np.asarray(mu_number) )\n",
    "e_evt_number = np.unique( np.asarray(e_number) )\n",
    "gamma_evt_number = np.unique( np.asarray(gamma_number) )\n",
    "\n",
    "print(\"Number of muons: \",len(mu_evt_number))\n",
    "print(\"Number of electrons: \",len(e_evt_number))\n",
    "print(\"Number of gamma: \",len(gamma_evt_number))\n",
    "\n",
    "print(\"Total sum \", len(mu_evt_number)+len(e_evt_number)+len(gamma_evt_number))\n"
   ]
  },
  {
   "cell_type": "code",
   "execution_count": 10,
   "metadata": {},
   "outputs": [
    {
     "data": {
      "text/plain": [
       "array([   9,   16,   21, ..., 9967, 9970, 9994])"
      ]
     },
     "execution_count": 10,
     "metadata": {},
     "output_type": "execute_result"
    }
   ],
   "source": [
    "mu_evt_number"
   ]
  },
  {
   "cell_type": "code",
   "execution_count": 11,
   "metadata": {},
   "outputs": [],
   "source": [
    "# Plot a signal vs time histogram \n",
    "mask_number = 213\n",
    "mu_number_mask = (mu_number == mu_number[mask_number])\n"
   ]
  },
  {
   "cell_type": "code",
   "execution_count": 12,
   "metadata": {},
   "outputs": [],
   "source": [
    "# Define coordinates of PMT \n",
    "pmt_coor = [0,0,120] # cm \n",
    "tau = 25 * 1e-9 #ns \n",
    "\n",
    "# Compute distance between photons produced from 0 to 80 cm on z axis to the PMT \n",
    "top_tank_mask_1 = photons_mu_z[mu_number_mask] > 80\n",
    "top_tank_mask_2 = photons_mu_z[mu_number_mask] < 120\n",
    "top_tank_mask = np.logical_and(top_tank_mask_1, top_tank_mask_2)\n",
    "photon_x_event_mu = photons_mu_x[mu_number_mask][top_tank_mask]\n",
    "photon_y_event_mu = photons_mu_y[mu_number_mask][top_tank_mask]\n",
    "photon_z_event_mu = photons_mu_z[mu_number_mask][top_tank_mask]\n",
    "c = c * u.m / u.s\n",
    "dist_photons_pmt = np.sqrt( photon_x_event_mu**2 + photon_y_event_mu**2 + (photon_z_event_mu - pmt_coor[2])**2 )\n",
    "time_direct_photons_pmt = dist_photons_pmt / (water.n * c.to(u.cm/u.s).value)\n",
    "\n",
    "exp_time = np.random.exponential(tau, size=len(time_direct_photons_pmt))\n",
    "time_photons_pmt = time_direct_photons_pmt + exp_time"
   ]
  },
  {
   "cell_type": "code",
   "execution_count": 13,
   "metadata": {},
   "outputs": [
    {
     "name": "stdout",
     "output_type": "stream",
     "text": [
      "[3.86274833e-09 3.86118829e-09 3.85809696e-09 3.86388390e-09\n",
      " 3.86387388e-09 3.86393485e-09 3.86277040e-09 3.86282549e-09\n",
      " 3.85735406e-09 3.86394185e-09]\n"
     ]
    }
   ],
   "source": [
    "print(time_direct_photons_pmt[0:10])"
   ]
  },
  {
   "cell_type": "code",
   "execution_count": 14,
   "metadata": {},
   "outputs": [
    {
     "name": "stdout",
     "output_type": "stream",
     "text": [
      "Peak value:  545.0\n",
      "Integral value:  975.0\n",
      "Total number of photons 975\n"
     ]
    },
    {
     "data": {
      "image/png": "[encoded data removed]",
      "text/plain": [
       "<Figure size 1500x500 with 2 Axes>"
      ]
     },
     "metadata": {},
     "output_type": "display_data"
    }
   ],
   "source": [
    "plt.subplots(1,2,figsize=(15,5))\n",
    "\n",
    "plt.subplot(1,2,1)\n",
    "counts, bin_edges, fig = plt.hist(time_photons_pmt*1e9,bins=np.arange(0,450,25))\n",
    "plt.xlabel('Time / ns ',size = 13)\n",
    "plt.ylabel('Entries ',size = 13)\n",
    "plt.yscale('linear')\n",
    "\n",
    "\n",
    "plt.subplot(1,2,2)\n",
    "counts, bin_edges, fig = plt.hist(time_photons_pmt*1e9,bins=np.arange(0,450,25))\n",
    "plt.xlabel('Time / ns ',size = 13)\n",
    "plt.ylabel('Entries ',size = 13)\n",
    "plt.yscale('log')\n",
    "\n",
    "max_counts = np.max(counts)\n",
    "tot_counts = np.sum(counts)\n",
    "\n",
    "print(\"Peak value: \", max_counts)\n",
    "print(\"Integral value: \",tot_counts)\n",
    "print(\"Total number of photons\",len(time_photons_pmt))\n",
    "\n",
    "plt.savefig('./plots/photons_time_TOP_'+str(H_TANK.value - TOP_TANK.value)+'_'+N_EVENTS+'.pdf',format='pdf')\n"
   ]
  },
  {
   "cell_type": "code",
   "execution_count": 15,
   "metadata": {},
   "outputs": [],
   "source": [
    "# Define lists to store values \n",
    "\n",
    "mu_charge_peak = []\n",
    "mu_integrated_charge = []\n",
    "\n",
    "e_charge_peak = []\n",
    "e_integrated_charge = []\n"
   ]
  },
  {
   "cell_type": "code",
   "execution_count": 16,
   "metadata": {},
   "outputs": [],
   "source": [
    "mask_number = gamma_evt_number[4]\n",
    "number_mask = (gamma_number == mask_number)  "
   ]
  },
  {
   "cell_type": "code",
   "execution_count": 17,
   "metadata": {},
   "outputs": [],
   "source": [
    "gamma_charge_peak = []\n",
    "gamma_integrated_charge = []\n",
    "\n",
    "get_charge_values(photons_gamma_x, photons_gamma_y, photons_gamma_z, gamma_number, gamma_evt_number, gamma_charge_peak, gamma_integrated_charge, len(gamma_evt_number), isverbose=False)"
   ]
  },
  {
   "cell_type": "code",
   "execution_count": 18,
   "metadata": {},
   "outputs": [],
   "source": [
    "get_charge_values(photons_mu_x, photons_mu_y, photons_mu_z, mu_number, mu_evt_number, mu_charge_peak, mu_integrated_charge, len(mu_evt_number))\n",
    "get_charge_values(photons_e_x, photons_e_y, photons_e_z, e_number, e_evt_number, e_charge_peak, e_integrated_charge, len(e_evt_number))\n"
   ]
  },
  {
   "cell_type": "code",
   "execution_count": 19,
   "metadata": {},
   "outputs": [
    {
     "data": {
      "text/plain": [
       "3593"
      ]
     },
     "execution_count": 19,
     "metadata": {},
     "output_type": "execute_result"
    }
   ],
   "source": [
    "len(gamma_integrated_charge)"
   ]
  },
  {
   "cell_type": "code",
   "execution_count": 20,
   "metadata": {},
   "outputs": [
    {
     "data": {
      "image/png": "[encoded data removed]",
      "text/plain": [
       "<Figure size 1500x500 with 2 Axes>"
      ]
     },
     "metadata": {},
     "output_type": "display_data"
    }
   ],
   "source": [
    "from cherenkov_sim.constants import TOP_TANK\n",
    "\n",
    "plt.subplots(1,2,figsize=(15,5))\n",
    "\n",
    "peak_bins = np.linspace(0,np.max(mu_charge_peak),50)\n",
    "\n",
    "plt.subplot(1,2,1)\n",
    "plt.hist(mu_charge_peak, bins=peak_bins, color='dodgerblue',edgecolor='royalblue',histtype= \"stepfilled\", label = 'muon')\n",
    "plt.hist(gamma_charge_peak, bins=peak_bins, color='orange',edgecolor='darkorange',histtype= \"stepfilled\", alpha=0.8, label = 'gamma')\n",
    "plt.hist(e_charge_peak, bins=peak_bins, color='darkgreen',edgecolor='forestgreen',histtype= \"stepfilled\", alpha=0.8, label = 'e+/e-')\n",
    "\n",
    "plt.xlabel(\"Charge peak\",size = 13)\n",
    "plt.ylabel(\"Entries\", size=13)\n",
    "plt.yscale('log')\n",
    "plt.legend()\n",
    "\n",
    "\n",
    "plt.subplot(1,2,2)\n",
    "\n",
    "charge_bins = np.linspace(0,np.max(mu_integrated_charge),50)\n",
    "\n",
    "plt.hist(mu_integrated_charge, bins=charge_bins, color='dodgerblue',edgecolor='royalblue',histtype= \"stepfilled\", label = 'muon')\n",
    "plt.hist(gamma_integrated_charge, bins=charge_bins, color='orange',edgecolor='darkorange',histtype= \"stepfilled\", alpha=0.8, label = 'gamma')\n",
    "plt.hist(e_integrated_charge, bins=charge_bins, color='darkgreen',edgecolor='forestgreen',histtype= \"stepfilled\", alpha=0.8, label = 'e+/e-')\n",
    "\n",
    "plt.xlabel(\"Integrated charge\",size = 13)\n",
    "plt.ylabel(\"Entries\", size=13)\n",
    "plt.yscale('log')\n",
    "plt.legend()\n",
    "\n",
    "plt.savefig('./plots/charge_peak'+'_TOP_'+str(H_TANK.value - TOP_TANK.value)+'_'+N_EVENTS+'.pdf',format='pdf')\n",
    "\n"
   ]
  }
 ],
 "metadata": {
  "kernelspec": {
   "display_name": "tank_env",
   "language": "python",
   "name": "python3"
  },
  "language_info": {
   "codemirror_mode": {
    "name": "ipython",
    "version": 3
   },
   "file_extension": ".py",
   "mimetype": "text/x-python",
   "name": "python",
   "nbconvert_exporter": "python",
   "pygments_lexer": "ipython3",
   "version": "3.12.9"
  }
 },
 "nbformat": 4,
 "nbformat_minor": 2
}
