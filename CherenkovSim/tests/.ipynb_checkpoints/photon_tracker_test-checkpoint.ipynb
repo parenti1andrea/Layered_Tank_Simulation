{
 "cells": [
  {
   "cell_type": "code",
   "execution_count": 1,
   "metadata": {},
   "outputs": [],
   "source": [
    "import sys\n",
    "import os\n",
    "\n",
    "# Add the parent directory of \"tests\" to sys.path\n",
    "sys.path.append(os.path.abspath(\"/Users/workspace/Software/Layered_Tank_Simulation/CherenkovSim/\"))"
   ]
  },
  {
   "cell_type": "code",
   "execution_count": 2,
   "metadata": {},
   "outputs": [
    {
     "ename": "ModuleNotFoundError",
     "evalue": "No module named 'astropy'",
     "output_type": "error",
     "traceback": [
      "\u001b[0;31m---------------------------------------------------------------------------\u001b[0m",
      "\u001b[0;31mModuleNotFoundError\u001b[0m                       Traceback (most recent call last)",
      "Cell \u001b[0;32mIn[2], line 4\u001b[0m\n\u001b[1;32m      2\u001b[0m \u001b[38;5;28;01mimport\u001b[39;00m\u001b[38;5;250m \u001b[39m\u001b[38;5;21;01mmatplotlib\u001b[39;00m\u001b[38;5;250m \u001b[39m\u001b[38;5;28;01mas\u001b[39;00m\u001b[38;5;250m \u001b[39m\u001b[38;5;21;01mmpl\u001b[39;00m\n\u001b[1;32m      3\u001b[0m \u001b[38;5;28;01mimport\u001b[39;00m\u001b[38;5;250m \u001b[39m\u001b[38;5;21;01mmatplotlib\u001b[39;00m\u001b[38;5;21;01m.\u001b[39;00m\u001b[38;5;21;01mpyplot\u001b[39;00m\u001b[38;5;250m \u001b[39m\u001b[38;5;28;01mas\u001b[39;00m\u001b[38;5;250m \u001b[39m\u001b[38;5;21;01mplt\u001b[39;00m\n\u001b[0;32m----> 4\u001b[0m \u001b[38;5;28;01mimport\u001b[39;00m\u001b[38;5;250m \u001b[39m\u001b[38;5;21;01mastropy\u001b[39;00m\u001b[38;5;21;01m.\u001b[39;00m\u001b[38;5;21;01munits\u001b[39;00m\u001b[38;5;250m \u001b[39m\u001b[38;5;28;01mas\u001b[39;00m\u001b[38;5;250m \u001b[39m\u001b[38;5;21;01mu\u001b[39;00m\n\u001b[1;32m      6\u001b[0m \u001b[38;5;28;01mfrom\u001b[39;00m\u001b[38;5;250m \u001b[39m\u001b[38;5;21;01mcherenkov_sim\u001b[39;00m\u001b[38;5;21;01m.\u001b[39;00m\u001b[38;5;21;01mparticle\u001b[39;00m\u001b[38;5;250m \u001b[39m\u001b[38;5;28;01mimport\u001b[39;00m Particle\n\u001b[1;32m      7\u001b[0m \u001b[38;5;28;01mfrom\u001b[39;00m\u001b[38;5;250m \u001b[39m\u001b[38;5;21;01mcherenkov_sim\u001b[39;00m\u001b[38;5;21;01m.\u001b[39;00m\u001b[38;5;21;01mmuon\u001b[39;00m\u001b[38;5;250m \u001b[39m\u001b[38;5;28;01mimport\u001b[39;00m Muon\n",
      "\u001b[0;31mModuleNotFoundError\u001b[0m: No module named 'astropy'"
     ]
    }
   ],
   "source": [
    "import numpy as np \n",
    "import matplotlib as mpl\n",
    "import matplotlib.pyplot as plt\n",
    "import astropy.units as u\n",
    "\n",
    "from cherenkov_sim.particle import Particle\n",
    "from cherenkov_sim.muon import Muon\n",
    "from cherenkov_sim.gamma import Gamma\n",
    "from cherenkov_sim.material import Material\n",
    "from cherenkov_sim.tracker import ParticleTracker, GammaTracker\n",
    "from cherenkov_sim.constants import ALPHA, R_TANK, H_TANK\n",
    "\n",
    "import numpy as np\n",
    "from astropy import units as u\n",
    "\n",
    "ice = Material(\n",
    "    name = 'Ice',\n",
    "    Z_A = 0.55509 * u.mol / u.g,\n",
    "    rho = 0.9180 * u.g / u.cm**3,\n",
    "    I = 79.7 * u.eV, \n",
    "    n = 1.309,\n",
    "    X0 = 39.31 * u.cm, \n",
    "    delta_file = '/Users/workspace/Software/PHYS-F-420/lesson2/delta_elec.txt'\n",
    ")\n",
    "\n",
    "water = Material(\n",
    "    name = 'water',\n",
    "    Z_A = 0.55509 * u.mol / u.g,\n",
    "    rho = 1 * u.g / u.cm**3,\n",
    "    I = 79.7 * u.eV,\n",
    "    n = 1.333,\n",
    "    X0 = 36.08 * u.cm, \n",
    "    delta_file = '/Users/workspace/Software/PHYS-F-420/lesson2/delta_elec.txt'\n",
    ")"
   ]
  },
  {
   "cell_type": "code",
   "execution_count": 40,
   "metadata": {},
   "outputs": [],
   "source": [
    "# Extract starting position randomly from a circle corresponding to the top of the tank\n",
    "N_event = 1 # Choose number of particles \n",
    "\n",
    "# Gen. surface radius \n",
    "R_gen = 180 * u.cm \n",
    " \n",
    "def rnd_tank_start(R_gen, N_event): \n",
    "    r = R_gen * np.sqrt(np.random.uniform(0,1,size=N_event))\n",
    "    alpha = np.random.uniform(0,2*np.pi, size=N_event) \n",
    "    z_value = 140 \n",
    "    x0 = r * np.cos(alpha)   \n",
    "    y0 = r * np.sin(alpha)  \n",
    "    z0 = np.full(N_event,z_value) * u.cm\n",
    "    return x0, y0, z0   \n",
    "\n",
    "\n",
    "def rnd_direction(N_event):\n",
    "    phi = np.random.uniform(0,2*np.pi, size=N_event)\n",
    "\n",
    "    theta_0 = 0 * u.deg \n",
    "    theta_1 = 30 * u.deg \n",
    "    cos_theta_squared = np.random.uniform(np.cos(theta_1.to(u.rad))**2,np.cos(theta_0.to(u.rad))**2, size=N_event)\n",
    "    cos_theta = np.sqrt(cos_theta_squared)\n",
    "    theta = np.arccos(cos_theta) \n",
    "    return theta * u.rad, phi * u.rad"
   ]
  },
  {
   "cell_type": "code",
   "execution_count": 41,
   "metadata": {},
   "outputs": [],
   "source": [
    "# Track muons inside the tank, considering energy loss and Cherenkov produciton \n",
    "\n",
    "muon_theta, muon_phi = rnd_direction(N_event)\n",
    "x0,y0,z0 = rnd_tank_start(R_gen, N_event)  \n",
    "\n",
    "initial_position = np.array([x0[0].value,y0[0].value,z0[0].value]) * u.cm\n",
    "theta = muon_theta[0]\n",
    "phi = muon_phi[0]"
   ]
  },
  {
   "cell_type": "code",
   "execution_count": 42,
   "metadata": {},
   "outputs": [],
   "source": [
    "e = 0.01 * u.GeV\n",
    "gamma = Gamma(energy = e)\n",
    "\n",
    "# Create the Tracker\n",
    "gamma_tracker = GammaTracker(gamma, ice, step_size= - 1.0 * u.cm,\n",
    "                      position=initial_position, \n",
    "                      zenith=muon_theta[0], \n",
    "                      azimuth=muon_phi[0])\n"
   ]
  },
  {
   "cell_type": "code",
   "execution_count": 43,
   "metadata": {},
   "outputs": [
    {
     "name": "stdout",
     "output_type": "stream",
     "text": [
      "Starting particle tracking at position [-18.10546556 124.16800301 140.        ] cm with energy 0.01 GeV\n",
      "Pair production at  [  0.59030506 109.27564315  91.57804446] cm\n",
      "Opening angle electron-positron pair:  2.9278083170616576 deg\n",
      "(<cherenkov_sim.tracker.ParticleTracker object at 0x11c0348a0>, <cherenkov_sim.tracker.ParticleTracker object at 0x11c053ad0>)\n"
     ]
    }
   ],
   "source": [
    "out = gamma_tracker.propagate()\n",
    "print(out)"
   ]
  },
  {
   "cell_type": "code",
   "execution_count": 44,
   "metadata": {},
   "outputs": [
    {
     "name": "stdout",
     "output_type": "stream",
     "text": [
      "<cherenkov_sim.tracker.ParticleTracker object at 0x11c0348a0>\n",
      "<cherenkov_sim.tracker.ParticleTracker object at 0x11c053ad0>\n"
     ]
    }
   ],
   "source": [
    "print(out[0])\n",
    "print(out[1])"
   ]
  },
  {
   "cell_type": "code",
   "execution_count": 45,
   "metadata": {},
   "outputs": [
    {
     "name": "stdout",
     "output_type": "stream",
     "text": [
      "[  0.59030506 109.27564315  91.57804446] cm\n",
      "[  0.59030506 109.27564315  91.57804446] cm\n",
      "Electron (mass=0.0005109989499999999 GeV, charge=1 e, energy=0.005 GeV)\n",
      "Electron (mass=0.0005109989499999999 GeV, charge=1 e, energy=0.005 GeV)\n"
     ]
    }
   ],
   "source": [
    "electron_tracker = out[0] \n",
    "positron_tracker = out[1] \n",
    "\n",
    "print(electron_tracker.position)\n",
    "print(positron_tracker.position)\n",
    "\n",
    "print(electron_tracker.particle)\n",
    "print(positron_tracker.particle)\n"
   ]
  },
  {
   "cell_type": "code",
   "execution_count": 46,
   "metadata": {},
   "outputs": [
    {
     "name": "stdout",
     "output_type": "stream",
     "text": [
      "Starting particle tracking at position [  0.59030506 109.27564315  91.57804446] cm with energy 0.01 GeV\n",
      "Tracking complete. Particle stopped.\n",
      "Starting particle tracking at position [  0.59030506 109.27564315  91.57804446] cm with energy 0.01 GeV\n",
      "Tracking complete. Particle stopped.\n"
     ]
    }
   ],
   "source": [
    "electron_tracker.propagate(lambda1 = 300 * u.nm, lambda2 = 600 * u.nm)\n",
    "positron_tracker.propagate(lambda1 = 300 * u.nm, lambda2 = 600 * u.nm)"
   ]
  },
  {
   "cell_type": "code",
   "execution_count": 49,
   "metadata": {},
   "outputs": [
    {
     "name": "stdout",
     "output_type": "stream",
     "text": [
      "1661\n"
     ]
    }
   ],
   "source": [
    "all_photons_z = []\n",
    "all_photons_r = []\n",
    "\n",
    "\n",
    "all_photons_z.extend(electron_tracker.cherenkov_photons_z)\n",
    "all_photons_r.extend(electron_tracker.cherenkov_photons_r)\n",
    "all_photons_z.extend(positron_tracker.cherenkov_photons_z)\n",
    "all_photons_r.extend(positron_tracker.cherenkov_photons_r)\n",
    "print(len(all_photons_r))"
   ]
  },
  {
   "cell_type": "code",
   "execution_count": 50,
   "metadata": {},
   "outputs": [],
   "source": [
    "# Define range and bins of photon density histogram \n",
    "\n",
    "bin_width = 1\n",
    "r_bins = np.arange(0,R_TANK.value+bin_width,bin_width)\n",
    "z_bins = np.arange(0,H_TANK.value+bin_width,bin_width)\n",
    "\n",
    "# Compute volume corresponding to each bin \n",
    "r_min, r_max = r_bins[:-1], r_bins[1:]\n",
    "z_min, z_max = z_bins[:-1], z_bins[1:]\n",
    "\n",
    "vol = np.zeros((len(r_min),len(z_min))) \n",
    "r_centers = (r_min+r_max) / 2.\n",
    "z_centers = (z_min + z_max) / 2.\n",
    "\n",
    "for i in range(len(r_min)): \n",
    "    for j in range(len(z_min)): \n",
    "        vol[i][j] = np.pi * (r_max[i]**2-r_min[i]**2)*(z_max[j]-z_min[j])\n",
    "        \n",
    "r_centers, z_centers = np.meshgrid(r_centers,z_centers)  "
   ]
  },
  {
   "cell_type": "code",
   "execution_count": 51,
   "metadata": {},
   "outputs": [
    {
     "data": {
      "image/png": "[encoded data removed]",
      "text/plain": [
       "<Figure size 640x480 with 2 Axes>"
      ]
     },
     "metadata": {},
     "output_type": "display_data"
    }
   ],
   "source": [
    "hist2d = plt.hist2d(all_photons_r, all_photons_z, bins=[r_bins,z_bins], norm=mpl.colors.LogNorm(), cmap = plt.cm.coolwarm )\n",
    "#hist2d = plt.hist2d(r_photon, z_photon, bins=[r_bins,z_bins], norm=mpl.colors.LogNorm(vmin=np.min(hist2d[0])), cmap = plt.cm.coolwarm)\n",
    "#hist2d = plt.hist2d(r_photon, z_photon, bins=[r_bins,z_bins], cmap = plt.cm.coolwarm)\n",
    "\n",
    "plt.xlabel('R tank / m',size=12)\n",
    "plt.ylabel('H tank / m',size=12)\n",
    "cbar = plt.colorbar()\n",
    "cbar.set_label('# Cherenkov photons', rotation=270, labelpad=10)"
   ]
  },
  {
   "cell_type": "code",
   "execution_count": 52,
   "metadata": {},
   "outputs": [
    {
     "name": "stdout",
     "output_type": "stream",
     "text": [
      "(120, 150)\n",
      "(120, 150)\n"
     ]
    },
    {
     "data": {
      "text/plain": [
       "Text(0, 0.5, 'H tank / m')"
      ]
     },
     "execution_count": 52,
     "metadata": {},
     "output_type": "execute_result"
    },
    {
     "data": {
      "image/png": "[encoded data removed]",
      "text/plain": [
       "<Figure size 640x480 with 1 Axes>"
      ]
     },
     "metadata": {},
     "output_type": "display_data"
    }
   ],
   "source": [
    "plt.figure(dpi=100)\n",
    "bin_count = hist2d[0]\n",
    "ph_density = bin_count / vol \n",
    "\n",
    "print(r_centers.shape)\n",
    "print(z_centers.shape)\n",
    "\n",
    "#plt.scatter(r_centers, z_centers, c = ph_density.T, marker='s')\n",
    "#plt.colorbar()\n",
    "\n",
    "plt.scatter(r_centers, z_centers, s=ph_density.T*7, marker='s', c='red')\n",
    "plt.xlabel('R tank / m',size=12)\n",
    "plt.ylabel('H tank / m',size=12)"
   ]
  }
 ],
 "metadata": {
  "kernelspec": {
   "display_name": "Python 3 (ipykernel)",
   "language": "python",
   "name": "python3"
  },
  "language_info": {
   "codemirror_mode": {
    "name": "ipython",
    "version": 3
   },
   "file_extension": ".py",
   "mimetype": "text/x-python",
   "name": "python",
   "nbconvert_exporter": "python",
   "pygments_lexer": "ipython3",
   "version": "3.13.2"
  }
 },
 "nbformat": 4,
 "nbformat_minor": 4
}
