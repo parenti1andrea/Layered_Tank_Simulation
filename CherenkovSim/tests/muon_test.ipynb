{
 "cells": [
  {
   "cell_type": "code",
   "execution_count": 1,
   "metadata": {},
   "outputs": [],
   "source": [
    "import sys\n",
    "import os\n",
    "\n",
    "# Add the parent directory of \"tests\" to sys.path\n",
    "sys.path.append(os.path.abspath(\"/Users/workspace/Software/Layered_Tank_Simulation/CherenkovSim/\"))"
   ]
  },
  {
   "cell_type": "code",
   "execution_count": 2,
   "metadata": {},
   "outputs": [],
   "source": [
    "from cherenkov_sim.particle import Particle\n",
    "from cherenkov_sim.muon import Muon\n",
    "from cherenkov_sim.material import Material\n",
    "\n",
    "from astropy import units as u"
   ]
  },
  {
   "cell_type": "code",
   "execution_count": 3,
   "metadata": {},
   "outputs": [],
   "source": [
    "e = 1 * u.GeV\n",
    "\n",
    "muon = Muon(energy = e)"
   ]
  },
  {
   "cell_type": "code",
   "execution_count": 4,
   "metadata": {},
   "outputs": [
    {
     "data": {
      "text/latex": [
       "$9.4644651 \\; \\mathrm{}$"
      ],
      "text/plain": [
       "<Quantity 9.46446512>"
      ]
     },
     "execution_count": 4,
     "metadata": {},
     "output_type": "execute_result"
    }
   ],
   "source": [
    "muon.gamma()"
   ]
  },
  {
   "cell_type": "code",
   "execution_count": 8,
   "metadata": {},
   "outputs": [],
   "source": [
    "ice = Material(\n",
    "    name = 'Ice',\n",
    "    Z_A = 0.55509 * u.mol / u.g,\n",
    "    rho = 0.9180 * u.g / u.cm**3,\n",
    "    I = 79.7 * u.eV, \n",
    "    n = 1.309,\n",
    "    X0 = 39.31 * u.cm, \n",
    "    delta_file = '/Users/workspace/Software/PHYS-F-420/lesson2/delta_elec.txt'\n",
    ")\n",
    "\n",
    "water = Material(\n",
    "    name = 'water',\n",
    "    Z_A = 0.55509 * u.mol / u.g,\n",
    "    rho = 1 * u.g / u.cm**3,\n",
    "    I = 79.7 * u.eV,\n",
    "    n = 1.333,\n",
    "    X0 = 36.08 * u.cm, \n",
    "    delta_file = '/Users/workspace/Software/PHYS-F-420/lesson2/delta_elec.txt'\n",
    ")\n"
   ]
  },
  {
   "cell_type": "code",
   "execution_count": 9,
   "metadata": {},
   "outputs": [
    {
     "name": "stdout",
     "output_type": "stream",
     "text": [
      "2.04295925680096 MeV / cm\n",
      "2.2254458135086708 MeV / cm\n"
     ]
    }
   ],
   "source": [
    "print(muon.dedx_bethe_bloch(ice))\n",
    "print(muon.dedx_bethe_bloch(water))"
   ]
  },
  {
   "cell_type": "code",
   "execution_count": null,
   "metadata": {},
   "outputs": [],
   "source": []
  }
 ],
 "metadata": {
  "kernelspec": {
   "display_name": "Software",
   "language": "python",
   "name": "python3"
  },
  "language_info": {
   "codemirror_mode": {
    "name": "ipython",
    "version": 3
   },
   "file_extension": ".py",
   "mimetype": "text/x-python",
   "name": "python",
   "nbconvert_exporter": "python",
   "pygments_lexer": "ipython3",
   "version": "3.13.2"
  }
 },
 "nbformat": 4,
 "nbformat_minor": 2
}
